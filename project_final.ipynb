{
  "cells": [
    {
      "cell_type": "markdown",
      "metadata": {
        "id": "view-in-github",
        "colab_type": "text"
      },
      "source": [
        "<a href=\"https://colab.research.google.com/github/PratikshaKage/Telugu_Chandassu/blob/main/project_final.ipynb\" target=\"_parent\"><img src=\"https://colab.research.google.com/assets/colab-badge.svg\" alt=\"Open In Colab\"/></a>"
      ]
    },
    {
      "cell_type": "code",
      "source": [
        "pip install regex"
      ],
      "metadata": {
        "colab": {
          "base_uri": "https://localhost:8080/"
        },
        "id": "szlq0dzegVvV",
        "outputId": "ce7c57fd-e225-4f62-c0ee-bd871b186544"
      },
      "execution_count": 1,
      "outputs": [
        {
          "output_type": "stream",
          "name": "stdout",
          "text": [
            "Looking in indexes: https://pypi.org/simple, https://us-python.pkg.dev/colab-wheels/public/simple/\n",
            "Requirement already satisfied: regex in /usr/local/lib/python3.10/dist-packages (2022.10.31)\n"
          ]
        }
      ]
    },
    {
      "cell_type": "code",
      "execution_count": 2,
      "metadata": {
        "id": "qN0lRmoMpdL9"
      },
      "outputs": [],
      "source": [
        "import regex as re"
      ]
    },
    {
      "cell_type": "code",
      "execution_count": 3,
      "metadata": {
        "id": "qmVvN7V3pdVA",
        "colab": {
          "base_uri": "https://localhost:8080/"
        },
        "outputId": "5a9af9af-29b1-46b4-a664-88584bdc61a7"
      },
      "outputs": [
        {
          "output_type": "stream",
          "name": "stdout",
          "text": [
            "ఒక పదాన్ని నమోదు చేయండి :ప్రతీక్ష\n",
            " IUI\n",
            "ప్రతీక్ష అనే పదం జ గణముకు చెందినది\n"
          ]
        }
      ],
      "source": [
        "v=input(\"ఒక పదాన్ని నమోదు చేయండి :\")\n",
        "#input the telugu word here\n",
        "\n",
        "w=v\n",
        "\n",
        "\n",
        "\n",
        "\n",
        "U=[\"ా\",\"ీ\",\"ూ\",\"ౄ\",\"ౣ\",\"ే\",\"ై\",\"ో\",\"ౌ\",\"ః\"]\n",
        "L=[\"ఆ\",\"ఈ\",\"ఊ\",\"ౠ\",\"ౡ\",\"ఏ\",\"ఐ\",\"ఓ\",\"ఔ\",\"అః\"]\n",
        "N={\"UII\":\"భ గణము\",\n",
        "   \"IUI\":\"జ గణము\",\n",
        "   \"IIU\":\"స గణము\",\n",
        "   \"III\":\"న గణము\",\n",
        "   \"IUU\":\"య గణము\",\n",
        "   \"UIU\":\"ర గణము\",\n",
        "   \"UUI\":\"త గణము\",\n",
        "   \"UUU\":\"మ గణము\",\n",
        "   \"UI\":\"గల గణము\",\n",
        "   \"IIIU\":\"నగ గణము\",\n",
        "   \"IIUI\":\"సల గణము\",\n",
        "   \"IIII\":\"నల గణము\",\n",
        "   \"UIII\":\"భల గణము\",\n",
        "   \"UIIU\":\"భగరు గణము\",\n",
        "   \"UUII\":\"తల గణము\",\n",
        "   \"UUIU\":\"తగ గణము\",\n",
        "   \"UUUI\":\"మలఘ గణము\",\n",
        "   \"IIIII\":\"నలల గణము\",\n",
        "   \"IIIUU\":\"నగగ గణము\",\n",
        "   \"IIIIU\":\"నవ గణము\",\n",
        "   \"IIUUI\":\"సహ గణము\",\n",
        "   \"IIUIU\":\"సవ గణము\",\n",
        "   \"IIUUU\":\"సగగ గణము\",\n",
        "   \"IIIUI\":\"నహ గణము\",\n",
        "   \"UIUU\":\"రగురు గణము\",\n",
        "   \"IIII\":\"నల గణము\",}\n",
        "\n",
        "\n",
        "l=['క్','ఖ్','గ్','ఘ్','ఙ్','చ్','ఛ్','జ్','ఝ్','ఞ్','ట్','ఠ్','డ్','ఢ్','ణ్','త్','థ్','ద్','ధ్',\n",
        "   'న్','ప్','ఫ్','బ్','భ్','మ్','య్','ర్','ల్','వ్','శ్','ష్','స్','హ్','ళ్','క్ష్','ఱ్']\n",
        "f=[]\n",
        "out=\"\"\n",
        "v=list(v.split())\n",
        "\n",
        "\n",
        "for text in v:\n",
        "  k=(re.findall(r'\\X', text, re.U)) \n",
        "\n",
        "\n",
        "\n",
        "ele=k.pop()\n",
        "res = [i for i in k if i not in l]\n",
        "res.append(ele)\n",
        "\n",
        "\n",
        "for i in res:\n",
        "  k=str(i)\n",
        "  for i in k:\n",
        "    f.append(i)\n",
        "  \n",
        "  if any(x in U for x in f):\n",
        "    out+=\"U\"\n",
        "  elif any(x in L for x in f):\n",
        "    out+=\"U\"\n",
        "  else:\n",
        "    out+=\"I\"\n",
        "  f.clear()\n",
        "\n",
        "print(\"\",out)\n",
        "print(w+\" అనే పదం \"+ N[out] +\"కు చెందినది\")\n",
        "  \n",
        "\n",
        "    \n",
        "\n",
        "\n",
        "\n",
        "\n",
        "\n",
        "\n",
        "\n",
        "\n",
        "\n",
        "\n",
        "\n",
        "    \n",
        "    \n",
        "\n",
        "      "
      ]
    }
  ],
  "metadata": {
    "colab": {
      "provenance": [],
      "authorship_tag": "ABX9TyP2tZTdpa30h21q8cB5+TH4",
      "include_colab_link": true
    },
    "kernelspec": {
      "display_name": "Python 3",
      "name": "python3"
    },
    "language_info": {
      "name": "python"
    }
  },
  "nbformat": 4,
  "nbformat_minor": 0
}